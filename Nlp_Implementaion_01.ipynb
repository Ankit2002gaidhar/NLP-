{
  "nbformat": 4,
  "nbformat_minor": 0,
  "metadata": {
    "colab": {
      "provenance": [],
      "gpuType": "T4"
    },
    "kernelspec": {
      "name": "python3",
      "display_name": "Python 3"
    },
    "language_info": {
      "name": "python"
    },
    "accelerator": "GPU"
  },
  "cells": [
    {
      "cell_type": "code",
      "execution_count": 1,
      "metadata": {
        "colab": {
          "base_uri": "https://localhost:8080/"
        },
        "id": "xzMhe51S8VC2",
        "outputId": "549a2cde-72de-41d9-f6a9-222bd81246d4"
      },
      "outputs": [
        {
          "output_type": "stream",
          "name": "stdout",
          "text": [
            "Requirement already satisfied: nltk in /usr/local/lib/python3.10/dist-packages (3.8.1)\n",
            "Requirement already satisfied: click in /usr/local/lib/python3.10/dist-packages (from nltk) (8.1.7)\n",
            "Requirement already satisfied: joblib in /usr/local/lib/python3.10/dist-packages (from nltk) (1.4.2)\n",
            "Requirement already satisfied: regex>=2021.8.3 in /usr/local/lib/python3.10/dist-packages (from nltk) (2024.5.15)\n",
            "Requirement already satisfied: tqdm in /usr/local/lib/python3.10/dist-packages (from nltk) (4.66.4)\n"
          ]
        }
      ],
      "source": [
        "!pip install nltk"
      ]
    },
    {
      "cell_type": "code",
      "source": [
        "paragraph=\"\"\"Modi was born and raised in Vadnagar in northeastern Gujarat, where he completed his secondary education. He was introduced to the RSS at the age of eight. At age 18, he was married to Jashodaben Modi, whom he abandoned soon after, only publicly acknowledging her four decades later when legally required to do so. Modi became a full-time worker for the RSS in Gujarat in 1971. The RSS assigned him to the BJP in 1985 and he held several positions within the party hierarchy until 2001, rising to the rank of general secretary.[c]\n",
        "In 2001, Modi was appointed Chief Minister of Gujarat and elected to the legislative assembly soon after. His administration is considered complicit in the 2002 Gujarat riots,[d] and has been criticised for its management of the crisis. A little over 1,000 people were killed, according to official records, three-quarters of whom were Muslim; independent sources estimated 2,000 deaths, mostly Muslim.[11] A Special Investigation Team appointed by the Supreme Court of India in 2012 found no evidence to initiate prosecution proceedings against him.[e] While his policies as chief minister, which were credited for encouraging economic growth, were praised, Modi's administration was criticised for failing to significantly improve health, poverty and education indices in the state.[f] In the 2014 Indian general election, Modi led the BJP to a parliamentary majority, the first for a party since 1984. His administration increased direct foreign investment, and it reduced spending on healthcare, education, and social-welfare programmes. Modi began a high-profile sanitation campaign, controversially initiated the 2016 demonetisation of high-denomination banknotes and introduced the Goods and Services Tax, and weakened or abolished environmental and labour laws.\n",
        "\"\"\""
      ],
      "metadata": {
        "id": "bSaxQN518jPU"
      },
      "execution_count": 2,
      "outputs": []
    },
    {
      "cell_type": "code",
      "source": [
        "paragraph"
      ],
      "metadata": {
        "colab": {
          "base_uri": "https://localhost:8080/",
          "height": 226
        },
        "id": "Lepei5k59Q1P",
        "outputId": "54fc9414-a894-4b31-eac0-d50ce04d1b03"
      },
      "execution_count": 3,
      "outputs": [
        {
          "output_type": "execute_result",
          "data": {
            "text/plain": [
              "\"Modi was born and raised in Vadnagar in northeastern Gujarat, where he completed his secondary education. He was introduced to the RSS at the age of eight. At age 18, he was married to Jashodaben Modi, whom he abandoned soon after, only publicly acknowledging her four decades later when legally required to do so. Modi became a full-time worker for the RSS in Gujarat in 1971. The RSS assigned him to the BJP in 1985 and he held several positions within the party hierarchy until 2001, rising to the rank of general secretary.[c]\\nIn 2001, Modi was appointed Chief Minister of Gujarat and elected to the legislative assembly soon after. His administration is considered complicit in the 2002 Gujarat riots,[d] and has been criticised for its management of the crisis. A little over 1,000 people were killed, according to official records, three-quarters of whom were Muslim; independent sources estimated 2,000 deaths, mostly Muslim.[11] A Special Investigation Team appointed by the Supreme Court of India in 2012 found no evidence to initiate prosecution proceedings against him.[e] While his policies as chief minister, which were credited for encouraging economic growth, were praised, Modi's administration was criticised for failing to significantly improve health, poverty and education indices in the state.[f] In the 2014 Indian general election, Modi led the BJP to a parliamentary majority, the first for a party since 1984. His administration increased direct foreign investment, and it reduced spending on healthcare, education, and social-welfare programmes. Modi began a high-profile sanitation campaign, controversially initiated the 2016 demonetisation of high-denomination banknotes and introduced the Goods and Services Tax, and weakened or abolished environmental and labour laws.\\n\""
            ],
            "application/vnd.google.colaboratory.intrinsic+json": {
              "type": "string"
            }
          },
          "metadata": {},
          "execution_count": 3
        }
      ]
    },
    {
      "cell_type": "code",
      "source": [
        "import nltk\n",
        "from nltk.stem import PorterStemmer\n",
        "from nltk.corpus import stopwords"
      ],
      "metadata": {
        "id": "YavzhCj59R-J"
      },
      "execution_count": 4,
      "outputs": []
    },
    {
      "cell_type": "code",
      "source": [
        "#Tokenization --Converts paragraph into sentences\n",
        "nltk.download('punkt')\n",
        "sentences=nltk.sent_tokenize(paragraph)\n",
        "sentences"
      ],
      "metadata": {
        "colab": {
          "base_uri": "https://localhost:8080/"
        },
        "id": "faFDY23F9iUB",
        "outputId": "ca11b573-0488-4970-abcd-6eab9c9e84dc"
      },
      "execution_count": 5,
      "outputs": [
        {
          "output_type": "stream",
          "name": "stderr",
          "text": [
            "[nltk_data] Downloading package punkt to /root/nltk_data...\n",
            "[nltk_data]   Unzipping tokenizers/punkt.zip.\n"
          ]
        },
        {
          "output_type": "execute_result",
          "data": {
            "text/plain": [
              "['Modi was born and raised in Vadnagar in northeastern Gujarat, where he completed his secondary education.',\n",
              " 'He was introduced to the RSS at the age of eight.',\n",
              " 'At age 18, he was married to Jashodaben Modi, whom he abandoned soon after, only publicly acknowledging her four decades later when legally required to do so.',\n",
              " 'Modi became a full-time worker for the RSS in Gujarat in 1971.',\n",
              " 'The RSS assigned him to the BJP in 1985 and he held several positions within the party hierarchy until 2001, rising to the rank of general secretary.',\n",
              " '[c]\\nIn 2001, Modi was appointed Chief Minister of Gujarat and elected to the legislative assembly soon after.',\n",
              " 'His administration is considered complicit in the 2002 Gujarat riots,[d] and has been criticised for its management of the crisis.',\n",
              " 'A little over 1,000 people were killed, according to official records, three-quarters of whom were Muslim; independent sources estimated 2,000 deaths, mostly Muslim.',\n",
              " '[11] A Special Investigation Team appointed by the Supreme Court of India in 2012 found no evidence to initiate prosecution proceedings against him.',\n",
              " \"[e] While his policies as chief minister, which were credited for encouraging economic growth, were praised, Modi's administration was criticised for failing to significantly improve health, poverty and education indices in the state.\",\n",
              " '[f] In the 2014 Indian general election, Modi led the BJP to a parliamentary majority, the first for a party since 1984.',\n",
              " 'His administration increased direct foreign investment, and it reduced spending on healthcare, education, and social-welfare programmes.',\n",
              " 'Modi began a high-profile sanitation campaign, controversially initiated the 2016 demonetisation of high-denomination banknotes and introduced the Goods and Services Tax, and weakened or abolished environmental and labour laws.']"
            ]
          },
          "metadata": {},
          "execution_count": 5
        }
      ]
    },
    {
      "cell_type": "code",
      "source": [
        "type(sentences)"
      ],
      "metadata": {
        "colab": {
          "base_uri": "https://localhost:8080/"
        },
        "id": "65Gold8G96ZO",
        "outputId": "9c774c9e-42b8-4c4c-93aa-6fab83ab3594"
      },
      "execution_count": 6,
      "outputs": [
        {
          "output_type": "execute_result",
          "data": {
            "text/plain": [
              "list"
            ]
          },
          "metadata": {},
          "execution_count": 6
        }
      ]
    },
    {
      "cell_type": "code",
      "source": [
        "stemmer=PorterStemmer()\n"
      ],
      "metadata": {
        "id": "K5vVsCav9_Vb"
      },
      "execution_count": 7,
      "outputs": []
    },
    {
      "cell_type": "code",
      "source": [
        "stemmer.stem('finalize')"
      ],
      "metadata": {
        "colab": {
          "base_uri": "https://localhost:8080/",
          "height": 35
        },
        "id": "YCsW1UUa-YtA",
        "outputId": "add03845-20f9-45c9-f513-e8acdb4184ed"
      },
      "execution_count": 8,
      "outputs": [
        {
          "output_type": "execute_result",
          "data": {
            "text/plain": [
              "'final'"
            ],
            "application/vnd.google.colaboratory.intrinsic+json": {
              "type": "string"
            }
          },
          "metadata": {},
          "execution_count": 8
        }
      ]
    },
    {
      "cell_type": "code",
      "source": [
        "from nltk.stem import WordNetLemmatizer\n",
        "nltk.download('wordnet')"
      ],
      "metadata": {
        "colab": {
          "base_uri": "https://localhost:8080/"
        },
        "id": "YB0pDY4_-cqY",
        "outputId": "84bacf49-34c8-4870-d658-efc64a2d3b08"
      },
      "execution_count": 9,
      "outputs": [
        {
          "output_type": "stream",
          "name": "stderr",
          "text": [
            "[nltk_data] Downloading package wordnet to /root/nltk_data...\n"
          ]
        },
        {
          "output_type": "execute_result",
          "data": {
            "text/plain": [
              "True"
            ]
          },
          "metadata": {},
          "execution_count": 9
        }
      ]
    },
    {
      "cell_type": "code",
      "source": [
        "lemmatizer=WordNetLemmatizer()"
      ],
      "metadata": {
        "id": "2oG4VfeM-t61"
      },
      "execution_count": 10,
      "outputs": []
    },
    {
      "cell_type": "code",
      "source": [
        "lemmatizer.lemmatize('goes')"
      ],
      "metadata": {
        "colab": {
          "base_uri": "https://localhost:8080/",
          "height": 35
        },
        "id": "hhIx86Y3-1SC",
        "outputId": "f55a0ff8-74f5-4cf5-fff7-0c71f6fb63b1"
      },
      "execution_count": 11,
      "outputs": [
        {
          "output_type": "execute_result",
          "data": {
            "text/plain": [
              "'go'"
            ],
            "application/vnd.google.colaboratory.intrinsic+json": {
              "type": "string"
            }
          },
          "metadata": {},
          "execution_count": 11
        }
      ]
    },
    {
      "cell_type": "code",
      "source": [
        "import re\n",
        "corpus=[]\n",
        "for i in range(len(sentences)):\n",
        "  review=re.sub('[^a-zA-Z]',' ',sentences[i])\n",
        "  review=review.lower()\n",
        "  corpus.append(review)"
      ],
      "metadata": {
        "id": "Mkl-yG_R-7cn"
      },
      "execution_count": 12,
      "outputs": []
    },
    {
      "cell_type": "code",
      "source": [
        "corpus"
      ],
      "metadata": {
        "colab": {
          "base_uri": "https://localhost:8080/"
        },
        "id": "E1rv4oGw_7xn",
        "outputId": "311fe51d-4df1-4410-a146-91ac9305f2f6"
      },
      "execution_count": 13,
      "outputs": [
        {
          "output_type": "execute_result",
          "data": {
            "text/plain": [
              "['modi was born and raised in vadnagar in northeastern gujarat  where he completed his secondary education ',\n",
              " 'he was introduced to the rss at the age of eight ',\n",
              " 'at age     he was married to jashodaben modi  whom he abandoned soon after  only publicly acknowledging her four decades later when legally required to do so ',\n",
              " 'modi became a full time worker for the rss in gujarat in      ',\n",
              " 'the rss assigned him to the bjp in      and he held several positions within the party hierarchy until       rising to the rank of general secretary ',\n",
              " ' c  in       modi was appointed chief minister of gujarat and elected to the legislative assembly soon after ',\n",
              " 'his administration is considered complicit in the      gujarat riots  d  and has been criticised for its management of the crisis ',\n",
              " 'a little over       people were killed  according to official records  three quarters of whom were muslim  independent sources estimated       deaths  mostly muslim ',\n",
              " '     a special investigation team appointed by the supreme court of india in      found no evidence to initiate prosecution proceedings against him ',\n",
              " ' e  while his policies as chief minister  which were credited for encouraging economic growth  were praised  modi s administration was criticised for failing to significantly improve health  poverty and education indices in the state ',\n",
              " ' f  in the      indian general election  modi led the bjp to a parliamentary majority  the first for a party since      ',\n",
              " 'his administration increased direct foreign investment  and it reduced spending on healthcare  education  and social welfare programmes ',\n",
              " 'modi began a high profile sanitation campaign  controversially initiated the      demonetisation of high denomination banknotes and introduced the goods and services tax  and weakened or abolished environmental and labour laws ']"
            ]
          },
          "metadata": {},
          "execution_count": 13
        }
      ]
    },
    {
      "cell_type": "code",
      "source": [
        "nltk.download('stopwords')"
      ],
      "metadata": {
        "colab": {
          "base_uri": "https://localhost:8080/"
        },
        "id": "ZUcxYD9cAt8l",
        "outputId": "33c8a68f-8f36-4846-8fcc-7929c6ae9193"
      },
      "execution_count": 14,
      "outputs": [
        {
          "output_type": "stream",
          "name": "stderr",
          "text": [
            "[nltk_data] Downloading package stopwords to /root/nltk_data...\n",
            "[nltk_data]   Unzipping corpora/stopwords.zip.\n"
          ]
        },
        {
          "output_type": "execute_result",
          "data": {
            "text/plain": [
              "True"
            ]
          },
          "metadata": {},
          "execution_count": 14
        }
      ]
    },
    {
      "cell_type": "code",
      "source": [
        "##Stemming\n",
        "for i in corpus:\n",
        "  words=nltk.word_tokenize(i)\n",
        "  for word in words:\n",
        "    if word not in set(stopwords.words('english')):\n",
        "      print(stemmer.stem(word))"
      ],
      "metadata": {
        "colab": {
          "base_uri": "https://localhost:8080/"
        },
        "id": "nZWUysLg_-pP",
        "outputId": "a6274942-666e-40c4-9b65-d47b4406888c"
      },
      "execution_count": 15,
      "outputs": [
        {
          "output_type": "stream",
          "name": "stdout",
          "text": [
            "modi\n",
            "born\n",
            "rais\n",
            "vadnagar\n",
            "northeastern\n",
            "gujarat\n",
            "complet\n",
            "secondari\n",
            "educ\n",
            "introduc\n",
            "rss\n",
            "age\n",
            "eight\n",
            "age\n",
            "marri\n",
            "jashodaben\n",
            "modi\n",
            "abandon\n",
            "soon\n",
            "publicli\n",
            "acknowledg\n",
            "four\n",
            "decad\n",
            "later\n",
            "legal\n",
            "requir\n",
            "modi\n",
            "becam\n",
            "full\n",
            "time\n",
            "worker\n",
            "rss\n",
            "gujarat\n",
            "rss\n",
            "assign\n",
            "bjp\n",
            "held\n",
            "sever\n",
            "posit\n",
            "within\n",
            "parti\n",
            "hierarchi\n",
            "rise\n",
            "rank\n",
            "gener\n",
            "secretari\n",
            "c\n",
            "modi\n",
            "appoint\n",
            "chief\n",
            "minist\n",
            "gujarat\n",
            "elect\n",
            "legisl\n",
            "assembl\n",
            "soon\n",
            "administr\n",
            "consid\n",
            "complicit\n",
            "gujarat\n",
            "riot\n",
            "criticis\n",
            "manag\n",
            "crisi\n",
            "littl\n",
            "peopl\n",
            "kill\n",
            "accord\n",
            "offici\n",
            "record\n",
            "three\n",
            "quarter\n",
            "muslim\n",
            "independ\n",
            "sourc\n",
            "estim\n",
            "death\n",
            "mostli\n",
            "muslim\n",
            "special\n",
            "investig\n",
            "team\n",
            "appoint\n",
            "suprem\n",
            "court\n",
            "india\n",
            "found\n",
            "evid\n",
            "initi\n",
            "prosecut\n",
            "proceed\n",
            "e\n",
            "polici\n",
            "chief\n",
            "minist\n",
            "credit\n",
            "encourag\n",
            "econom\n",
            "growth\n",
            "prais\n",
            "modi\n",
            "administr\n",
            "criticis\n",
            "fail\n",
            "significantli\n",
            "improv\n",
            "health\n",
            "poverti\n",
            "educ\n",
            "indic\n",
            "state\n",
            "f\n",
            "indian\n",
            "gener\n",
            "elect\n",
            "modi\n",
            "led\n",
            "bjp\n",
            "parliamentari\n",
            "major\n",
            "first\n",
            "parti\n",
            "sinc\n",
            "administr\n",
            "increas\n",
            "direct\n",
            "foreign\n",
            "invest\n",
            "reduc\n",
            "spend\n",
            "healthcar\n",
            "educ\n",
            "social\n",
            "welfar\n",
            "programm\n",
            "modi\n",
            "began\n",
            "high\n",
            "profil\n",
            "sanit\n",
            "campaign\n",
            "controversi\n",
            "initi\n",
            "demonetis\n",
            "high\n",
            "denomin\n",
            "banknot\n",
            "introduc\n",
            "good\n",
            "servic\n",
            "tax\n",
            "weaken\n",
            "abolish\n",
            "environment\n",
            "labour\n",
            "law\n"
          ]
        }
      ]
    },
    {
      "cell_type": "code",
      "source": [
        "stopwords.words('english')"
      ],
      "metadata": {
        "colab": {
          "base_uri": "https://localhost:8080/"
        },
        "id": "6jKU_xzhApm4",
        "outputId": "523e2529-b357-4e38-b593-b2b07616b6b4"
      },
      "execution_count": 16,
      "outputs": [
        {
          "output_type": "execute_result",
          "data": {
            "text/plain": [
              "['i',\n",
              " 'me',\n",
              " 'my',\n",
              " 'myself',\n",
              " 'we',\n",
              " 'our',\n",
              " 'ours',\n",
              " 'ourselves',\n",
              " 'you',\n",
              " \"you're\",\n",
              " \"you've\",\n",
              " \"you'll\",\n",
              " \"you'd\",\n",
              " 'your',\n",
              " 'yours',\n",
              " 'yourself',\n",
              " 'yourselves',\n",
              " 'he',\n",
              " 'him',\n",
              " 'his',\n",
              " 'himself',\n",
              " 'she',\n",
              " \"she's\",\n",
              " 'her',\n",
              " 'hers',\n",
              " 'herself',\n",
              " 'it',\n",
              " \"it's\",\n",
              " 'its',\n",
              " 'itself',\n",
              " 'they',\n",
              " 'them',\n",
              " 'their',\n",
              " 'theirs',\n",
              " 'themselves',\n",
              " 'what',\n",
              " 'which',\n",
              " 'who',\n",
              " 'whom',\n",
              " 'this',\n",
              " 'that',\n",
              " \"that'll\",\n",
              " 'these',\n",
              " 'those',\n",
              " 'am',\n",
              " 'is',\n",
              " 'are',\n",
              " 'was',\n",
              " 'were',\n",
              " 'be',\n",
              " 'been',\n",
              " 'being',\n",
              " 'have',\n",
              " 'has',\n",
              " 'had',\n",
              " 'having',\n",
              " 'do',\n",
              " 'does',\n",
              " 'did',\n",
              " 'doing',\n",
              " 'a',\n",
              " 'an',\n",
              " 'the',\n",
              " 'and',\n",
              " 'but',\n",
              " 'if',\n",
              " 'or',\n",
              " 'because',\n",
              " 'as',\n",
              " 'until',\n",
              " 'while',\n",
              " 'of',\n",
              " 'at',\n",
              " 'by',\n",
              " 'for',\n",
              " 'with',\n",
              " 'about',\n",
              " 'against',\n",
              " 'between',\n",
              " 'into',\n",
              " 'through',\n",
              " 'during',\n",
              " 'before',\n",
              " 'after',\n",
              " 'above',\n",
              " 'below',\n",
              " 'to',\n",
              " 'from',\n",
              " 'up',\n",
              " 'down',\n",
              " 'in',\n",
              " 'out',\n",
              " 'on',\n",
              " 'off',\n",
              " 'over',\n",
              " 'under',\n",
              " 'again',\n",
              " 'further',\n",
              " 'then',\n",
              " 'once',\n",
              " 'here',\n",
              " 'there',\n",
              " 'when',\n",
              " 'where',\n",
              " 'why',\n",
              " 'how',\n",
              " 'all',\n",
              " 'any',\n",
              " 'both',\n",
              " 'each',\n",
              " 'few',\n",
              " 'more',\n",
              " 'most',\n",
              " 'other',\n",
              " 'some',\n",
              " 'such',\n",
              " 'no',\n",
              " 'nor',\n",
              " 'not',\n",
              " 'only',\n",
              " 'own',\n",
              " 'same',\n",
              " 'so',\n",
              " 'than',\n",
              " 'too',\n",
              " 'very',\n",
              " 's',\n",
              " 't',\n",
              " 'can',\n",
              " 'will',\n",
              " 'just',\n",
              " 'don',\n",
              " \"don't\",\n",
              " 'should',\n",
              " \"should've\",\n",
              " 'now',\n",
              " 'd',\n",
              " 'll',\n",
              " 'm',\n",
              " 'o',\n",
              " 're',\n",
              " 've',\n",
              " 'y',\n",
              " 'ain',\n",
              " 'aren',\n",
              " \"aren't\",\n",
              " 'couldn',\n",
              " \"couldn't\",\n",
              " 'didn',\n",
              " \"didn't\",\n",
              " 'doesn',\n",
              " \"doesn't\",\n",
              " 'hadn',\n",
              " \"hadn't\",\n",
              " 'hasn',\n",
              " \"hasn't\",\n",
              " 'haven',\n",
              " \"haven't\",\n",
              " 'isn',\n",
              " \"isn't\",\n",
              " 'ma',\n",
              " 'mightn',\n",
              " \"mightn't\",\n",
              " 'mustn',\n",
              " \"mustn't\",\n",
              " 'needn',\n",
              " \"needn't\",\n",
              " 'shan',\n",
              " \"shan't\",\n",
              " 'shouldn',\n",
              " \"shouldn't\",\n",
              " 'wasn',\n",
              " \"wasn't\",\n",
              " 'weren',\n",
              " \"weren't\",\n",
              " 'won',\n",
              " \"won't\",\n",
              " 'wouldn',\n",
              " \"wouldn't\"]"
            ]
          },
          "metadata": {},
          "execution_count": 16
        }
      ]
    },
    {
      "cell_type": "code",
      "source": [
        "##Lemmatization\n",
        "for i in corpus:\n",
        "  words=nltk.word_tokenize(i)\n",
        "  for word in words:\n",
        "    if word not in set(stopwords.words('english')):\n",
        "      print(lemmatizer.lemmatize(word))"
      ],
      "metadata": {
        "colab": {
          "base_uri": "https://localhost:8080/"
        },
        "id": "W7V1lkUwA4fk",
        "outputId": "bf1962e1-c327-4066-9afc-6ac73d891e1f"
      },
      "execution_count": 17,
      "outputs": [
        {
          "output_type": "stream",
          "name": "stdout",
          "text": [
            "modi\n",
            "born\n",
            "raised\n",
            "vadnagar\n",
            "northeastern\n",
            "gujarat\n",
            "completed\n",
            "secondary\n",
            "education\n",
            "introduced\n",
            "r\n",
            "age\n",
            "eight\n",
            "age\n",
            "married\n",
            "jashodaben\n",
            "modi\n",
            "abandoned\n",
            "soon\n",
            "publicly\n",
            "acknowledging\n",
            "four\n",
            "decade\n",
            "later\n",
            "legally\n",
            "required\n",
            "modi\n",
            "became\n",
            "full\n",
            "time\n",
            "worker\n",
            "r\n",
            "gujarat\n",
            "r\n",
            "assigned\n",
            "bjp\n",
            "held\n",
            "several\n",
            "position\n",
            "within\n",
            "party\n",
            "hierarchy\n",
            "rising\n",
            "rank\n",
            "general\n",
            "secretary\n",
            "c\n",
            "modi\n",
            "appointed\n",
            "chief\n",
            "minister\n",
            "gujarat\n",
            "elected\n",
            "legislative\n",
            "assembly\n",
            "soon\n",
            "administration\n",
            "considered\n",
            "complicit\n",
            "gujarat\n",
            "riot\n",
            "criticised\n",
            "management\n",
            "crisis\n",
            "little\n",
            "people\n",
            "killed\n",
            "according\n",
            "official\n",
            "record\n",
            "three\n",
            "quarter\n",
            "muslim\n",
            "independent\n",
            "source\n",
            "estimated\n",
            "death\n",
            "mostly\n",
            "muslim\n",
            "special\n",
            "investigation\n",
            "team\n",
            "appointed\n",
            "supreme\n",
            "court\n",
            "india\n",
            "found\n",
            "evidence\n",
            "initiate\n",
            "prosecution\n",
            "proceeding\n",
            "e\n",
            "policy\n",
            "chief\n",
            "minister\n",
            "credited\n",
            "encouraging\n",
            "economic\n",
            "growth\n",
            "praised\n",
            "modi\n",
            "administration\n",
            "criticised\n",
            "failing\n",
            "significantly\n",
            "improve\n",
            "health\n",
            "poverty\n",
            "education\n",
            "index\n",
            "state\n",
            "f\n",
            "indian\n",
            "general\n",
            "election\n",
            "modi\n",
            "led\n",
            "bjp\n",
            "parliamentary\n",
            "majority\n",
            "first\n",
            "party\n",
            "since\n",
            "administration\n",
            "increased\n",
            "direct\n",
            "foreign\n",
            "investment\n",
            "reduced\n",
            "spending\n",
            "healthcare\n",
            "education\n",
            "social\n",
            "welfare\n",
            "programme\n",
            "modi\n",
            "began\n",
            "high\n",
            "profile\n",
            "sanitation\n",
            "campaign\n",
            "controversially\n",
            "initiated\n",
            "demonetisation\n",
            "high\n",
            "denomination\n",
            "banknote\n",
            "introduced\n",
            "good\n",
            "service\n",
            "tax\n",
            "weakened\n",
            "abolished\n",
            "environmental\n",
            "labour\n",
            "law\n"
          ]
        }
      ]
    },
    {
      "cell_type": "code",
      "source": [
        "from sklearn.feature_extraction.text import CountVectorizer\n",
        "cv=CountVectorizer()"
      ],
      "metadata": {
        "id": "O259d8r-BfEE"
      },
      "execution_count": 18,
      "outputs": []
    },
    {
      "cell_type": "code",
      "source": [
        "X=cv.fit_transform(corpus)"
      ],
      "metadata": {
        "id": "b7RwqM7JByFR"
      },
      "execution_count": 19,
      "outputs": []
    },
    {
      "cell_type": "code",
      "source": [
        "cv.vocabulary_"
      ],
      "metadata": {
        "colab": {
          "base_uri": "https://localhost:8080/"
        },
        "id": "y4aY0s8fB6Hx",
        "outputId": "3c7d912c-4112-4f69-800f-5409a5e23ab9"
      },
      "execution_count": 20,
      "outputs": [
        {
          "output_type": "execute_result",
          "data": {
            "text/plain": [
              "{'modi': 95,\n",
              " 'was': 150,\n",
              " 'born': 19,\n",
              " 'and': 8,\n",
              " 'raised': 119,\n",
              " 'in': 68,\n",
              " 'vadnagar': 149,\n",
              " 'northeastern': 99,\n",
              " 'gujarat': 56,\n",
              " 'where': 155,\n",
              " 'he': 58,\n",
              " 'completed': 23,\n",
              " 'his': 66,\n",
              " 'secondary': 128,\n",
              " 'education': 38,\n",
              " 'introduced': 76,\n",
              " 'to': 147,\n",
              " 'the': 144,\n",
              " 'rss': 126,\n",
              " 'at': 13,\n",
              " 'age': 7,\n",
              " 'of': 100,\n",
              " 'eight': 39,\n",
              " 'married': 93,\n",
              " 'jashodaben': 82,\n",
              " 'whom': 158,\n",
              " 'abandoned': 0,\n",
              " 'soon': 136,\n",
              " 'after': 5,\n",
              " 'only': 103,\n",
              " 'publicly': 117,\n",
              " 'acknowledging': 3,\n",
              " 'her': 62,\n",
              " 'four': 51,\n",
              " 'decades': 32,\n",
              " 'later': 85,\n",
              " 'when': 154,\n",
              " 'legally': 88,\n",
              " 'required': 123,\n",
              " 'do': 36,\n",
              " 'so': 134,\n",
              " 'became': 15,\n",
              " 'full': 52,\n",
              " 'time': 146,\n",
              " 'worker': 160,\n",
              " 'for': 48,\n",
              " 'assigned': 12,\n",
              " 'him': 65,\n",
              " 'bjp': 18,\n",
              " 'held': 61,\n",
              " 'several': 131,\n",
              " 'positions': 110,\n",
              " 'within': 159,\n",
              " 'party': 107,\n",
              " 'hierarchy': 63,\n",
              " 'until': 148,\n",
              " 'rising': 125,\n",
              " 'rank': 120,\n",
              " 'general': 53,\n",
              " 'secretary': 129,\n",
              " 'appointed': 9,\n",
              " 'chief': 22,\n",
              " 'minister': 94,\n",
              " 'elected': 40,\n",
              " 'legislative': 89,\n",
              " 'assembly': 11,\n",
              " 'administration': 4,\n",
              " 'is': 79,\n",
              " 'considered': 25,\n",
              " 'complicit': 24,\n",
              " 'riots': 124,\n",
              " 'has': 57,\n",
              " 'been': 16,\n",
              " 'criticised': 30,\n",
              " 'its': 81,\n",
              " 'management': 92,\n",
              " 'crisis': 29,\n",
              " 'little': 90,\n",
              " 'over': 105,\n",
              " 'people': 108,\n",
              " 'were': 153,\n",
              " 'killed': 83,\n",
              " 'according': 2,\n",
              " 'official': 101,\n",
              " 'records': 121,\n",
              " 'three': 145,\n",
              " 'quarters': 118,\n",
              " 'muslim': 97,\n",
              " 'independent': 70,\n",
              " 'sources': 137,\n",
              " 'estimated': 44,\n",
              " 'deaths': 31,\n",
              " 'mostly': 96,\n",
              " 'special': 138,\n",
              " 'investigation': 77,\n",
              " 'team': 143,\n",
              " 'by': 20,\n",
              " 'supreme': 141,\n",
              " 'court': 27,\n",
              " 'india': 71,\n",
              " 'found': 50,\n",
              " 'no': 98,\n",
              " 'evidence': 45,\n",
              " 'initiate': 74,\n",
              " 'prosecution': 116,\n",
              " 'proceedings': 113,\n",
              " 'against': 6,\n",
              " 'while': 157,\n",
              " 'policies': 109,\n",
              " 'as': 10,\n",
              " 'which': 156,\n",
              " 'credited': 28,\n",
              " 'encouraging': 42,\n",
              " 'economic': 37,\n",
              " 'growth': 55,\n",
              " 'praised': 112,\n",
              " 'failing': 46,\n",
              " 'significantly': 132,\n",
              " 'improve': 67,\n",
              " 'health': 59,\n",
              " 'poverty': 111,\n",
              " 'indices': 73,\n",
              " 'state': 140,\n",
              " 'indian': 72,\n",
              " 'election': 41,\n",
              " 'led': 87,\n",
              " 'parliamentary': 106,\n",
              " 'majority': 91,\n",
              " 'first': 47,\n",
              " 'since': 133,\n",
              " 'increased': 69,\n",
              " 'direct': 35,\n",
              " 'foreign': 49,\n",
              " 'investment': 78,\n",
              " 'it': 80,\n",
              " 'reduced': 122,\n",
              " 'spending': 139,\n",
              " 'on': 102,\n",
              " 'healthcare': 60,\n",
              " 'social': 135,\n",
              " 'welfare': 152,\n",
              " 'programmes': 115,\n",
              " 'began': 17,\n",
              " 'high': 64,\n",
              " 'profile': 114,\n",
              " 'sanitation': 127,\n",
              " 'campaign': 21,\n",
              " 'controversially': 26,\n",
              " 'initiated': 75,\n",
              " 'demonetisation': 33,\n",
              " 'denomination': 34,\n",
              " 'banknotes': 14,\n",
              " 'goods': 54,\n",
              " 'services': 130,\n",
              " 'tax': 142,\n",
              " 'weakened': 151,\n",
              " 'or': 104,\n",
              " 'abolished': 1,\n",
              " 'environmental': 43,\n",
              " 'labour': 84,\n",
              " 'laws': 86}"
            ]
          },
          "metadata": {},
          "execution_count": 20
        }
      ]
    },
    {
      "cell_type": "code",
      "source": [
        "corpus[0]"
      ],
      "metadata": {
        "colab": {
          "base_uri": "https://localhost:8080/",
          "height": 53
        },
        "id": "Y55WIGNoB9rT",
        "outputId": "bcf5bf0b-fa06-4eed-df94-058b2e38f8de"
      },
      "execution_count": 21,
      "outputs": [
        {
          "output_type": "execute_result",
          "data": {
            "text/plain": [
              "'modi was born and raised in vadnagar in northeastern gujarat  where he completed his secondary education '"
            ],
            "application/vnd.google.colaboratory.intrinsic+json": {
              "type": "string"
            }
          },
          "metadata": {},
          "execution_count": 21
        }
      ]
    },
    {
      "cell_type": "code",
      "source": [
        "X[0].toarray()"
      ],
      "metadata": {
        "colab": {
          "base_uri": "https://localhost:8080/"
        },
        "id": "X9qNYTmvCLNY",
        "outputId": "fb27981c-8baf-48cb-fdfa-06eea9d6b89d"
      },
      "execution_count": 22,
      "outputs": [
        {
          "output_type": "execute_result",
          "data": {
            "text/plain": [
              "array([[0, 0, 0, 0, 0, 0, 0, 0, 1, 0, 0, 0, 0, 0, 0, 0, 0, 0, 0, 1, 0, 0,\n",
              "        0, 1, 0, 0, 0, 0, 0, 0, 0, 0, 0, 0, 0, 0, 0, 0, 1, 0, 0, 0, 0, 0,\n",
              "        0, 0, 0, 0, 0, 0, 0, 0, 0, 0, 0, 0, 1, 0, 1, 0, 0, 0, 0, 0, 0, 0,\n",
              "        1, 0, 2, 0, 0, 0, 0, 0, 0, 0, 0, 0, 0, 0, 0, 0, 0, 0, 0, 0, 0, 0,\n",
              "        0, 0, 0, 0, 0, 0, 0, 1, 0, 0, 0, 1, 0, 0, 0, 0, 0, 0, 0, 0, 0, 0,\n",
              "        0, 0, 0, 0, 0, 0, 0, 0, 0, 1, 0, 0, 0, 0, 0, 0, 0, 0, 1, 0, 0, 0,\n",
              "        0, 0, 0, 0, 0, 0, 0, 0, 0, 0, 0, 0, 0, 0, 0, 0, 0, 1, 1, 0, 0, 0,\n",
              "        0, 1, 0, 0, 0, 0, 0]])"
            ]
          },
          "metadata": {},
          "execution_count": 22
        }
      ]
    },
    {
      "cell_type": "code",
      "source": [
        "import re\n",
        "corpus=[]\n",
        "for i in range(len(sentences)):\n",
        "  review=re.sub('[^a-zA-Z]',' ',sentences[i])\n",
        "  review=review.lower()\n",
        "  review=review.split()\n",
        "  review=[lemmatizer.lemmatize(word) for word in review if not word in set(stopwords.words('english'))]\n",
        "  review=' '.join(review)\n",
        "  corpus.append(review)"
      ],
      "metadata": {
        "id": "RZlLYYoiCORI"
      },
      "execution_count": 27,
      "outputs": []
    },
    {
      "cell_type": "code",
      "source": [
        "from sklearn.feature_extraction.text import CountVectorizer\n",
        "cv=CountVectorizer(binary=True)"
      ],
      "metadata": {
        "id": "tTxYdQL68Bo4"
      },
      "execution_count": 28,
      "outputs": []
    },
    {
      "cell_type": "code",
      "source": [
        "X=cv.fit_transform(corpus)"
      ],
      "metadata": {
        "id": "ArnF2Mc78JvQ"
      },
      "execution_count": 29,
      "outputs": []
    },
    {
      "cell_type": "code",
      "source": [
        "cv.vocabulary_"
      ],
      "metadata": {
        "colab": {
          "base_uri": "https://localhost:8080/"
        },
        "id": "1HZx52Wh8OIf",
        "outputId": "6f14b4a3-a207-449e-af43-4333258908cb"
      },
      "execution_count": 30,
      "outputs": [
        {
          "output_type": "execute_result",
          "data": {
            "text/plain": [
              "{'modi': 77,\n",
              " 'born': 13,\n",
              " 'raised': 95,\n",
              " 'vadnagar': 120,\n",
              " 'northeastern': 80,\n",
              " 'gujarat': 47,\n",
              " 'completed': 16,\n",
              " 'secondary': 103,\n",
              " 'education': 30,\n",
              " 'introduced': 61,\n",
              " 'age': 5,\n",
              " 'eight': 31,\n",
              " 'married': 75,\n",
              " 'jashodaben': 64,\n",
              " 'abandoned': 0,\n",
              " 'soon': 110,\n",
              " 'publicly': 93,\n",
              " 'acknowledging': 3,\n",
              " 'four': 42,\n",
              " 'decade': 25,\n",
              " 'later': 67,\n",
              " 'legally': 70,\n",
              " 'required': 99,\n",
              " 'became': 10,\n",
              " 'full': 43,\n",
              " 'time': 119,\n",
              " 'worker': 124,\n",
              " 'assigned': 8,\n",
              " 'bjp': 12,\n",
              " 'held': 50,\n",
              " 'several': 106,\n",
              " 'position': 86,\n",
              " 'within': 123,\n",
              " 'party': 83,\n",
              " 'hierarchy': 51,\n",
              " 'rising': 101,\n",
              " 'rank': 96,\n",
              " 'general': 44,\n",
              " 'secretary': 104,\n",
              " 'appointed': 6,\n",
              " 'chief': 15,\n",
              " 'minister': 76,\n",
              " 'elected': 32,\n",
              " 'legislative': 71,\n",
              " 'assembly': 7,\n",
              " 'administration': 4,\n",
              " 'considered': 18,\n",
              " 'complicit': 17,\n",
              " 'riot': 100,\n",
              " 'criticised': 23,\n",
              " 'management': 74,\n",
              " 'crisis': 22,\n",
              " 'little': 72,\n",
              " 'people': 84,\n",
              " 'killed': 65,\n",
              " 'according': 2,\n",
              " 'official': 81,\n",
              " 'record': 97,\n",
              " 'three': 118,\n",
              " 'quarter': 94,\n",
              " 'muslim': 79,\n",
              " 'independent': 55,\n",
              " 'source': 111,\n",
              " 'estimated': 36,\n",
              " 'death': 24,\n",
              " 'mostly': 78,\n",
              " 'special': 112,\n",
              " 'investigation': 62,\n",
              " 'team': 117,\n",
              " 'supreme': 115,\n",
              " 'court': 20,\n",
              " 'india': 57,\n",
              " 'found': 41,\n",
              " 'evidence': 37,\n",
              " 'initiate': 59,\n",
              " 'prosecution': 92,\n",
              " 'proceeding': 89,\n",
              " 'policy': 85,\n",
              " 'credited': 21,\n",
              " 'encouraging': 34,\n",
              " 'economic': 29,\n",
              " 'growth': 46,\n",
              " 'praised': 88,\n",
              " 'failing': 38,\n",
              " 'significantly': 107,\n",
              " 'improve': 53,\n",
              " 'health': 48,\n",
              " 'poverty': 87,\n",
              " 'index': 56,\n",
              " 'state': 114,\n",
              " 'indian': 58,\n",
              " 'election': 33,\n",
              " 'led': 69,\n",
              " 'parliamentary': 82,\n",
              " 'majority': 73,\n",
              " 'first': 39,\n",
              " 'since': 108,\n",
              " 'increased': 54,\n",
              " 'direct': 28,\n",
              " 'foreign': 40,\n",
              " 'investment': 63,\n",
              " 'reduced': 98,\n",
              " 'spending': 113,\n",
              " 'healthcare': 49,\n",
              " 'social': 109,\n",
              " 'welfare': 122,\n",
              " 'programme': 91,\n",
              " 'began': 11,\n",
              " 'high': 52,\n",
              " 'profile': 90,\n",
              " 'sanitation': 102,\n",
              " 'campaign': 14,\n",
              " 'controversially': 19,\n",
              " 'initiated': 60,\n",
              " 'demonetisation': 26,\n",
              " 'denomination': 27,\n",
              " 'banknote': 9,\n",
              " 'good': 45,\n",
              " 'service': 105,\n",
              " 'tax': 116,\n",
              " 'weakened': 121,\n",
              " 'abolished': 1,\n",
              " 'environmental': 35,\n",
              " 'labour': 66,\n",
              " 'law': 68}"
            ]
          },
          "metadata": {},
          "execution_count": 30
        }
      ]
    },
    {
      "cell_type": "code",
      "source": [
        "#Bag OF Words\n",
        "from sklearn.feature_extraction.text import CountVectorizer\n",
        "cv=CountVectorizer(binary=True,ngram_range=(3,3))"
      ],
      "metadata": {
        "id": "jBoxM3ec8SGi"
      },
      "execution_count": 32,
      "outputs": []
    },
    {
      "cell_type": "code",
      "source": [
        "X=cv.fit_transform(corpus)"
      ],
      "metadata": {
        "id": "G1Lj-g-A8966"
      },
      "execution_count": 33,
      "outputs": []
    },
    {
      "cell_type": "code",
      "source": [
        "cv.vocabulary_"
      ],
      "metadata": {
        "colab": {
          "base_uri": "https://localhost:8080/"
        },
        "id": "tvqWoa3v9IhC",
        "outputId": "e1158bfe-e2d3-481c-faf2-17ca62d745b1"
      },
      "execution_count": 34,
      "outputs": [
        {
          "output_type": "execute_result",
          "data": {
            "text/plain": [
              "{'modi born raised': 86,\n",
              " 'born raised vadnagar': 16,\n",
              " 'raised vadnagar northeastern': 101,\n",
              " 'vadnagar northeastern gujarat': 121,\n",
              " 'northeastern gujarat completed': 89,\n",
              " 'gujarat completed secondary': 51,\n",
              " 'completed secondary education': 20,\n",
              " 'introduced age eight': 67,\n",
              " 'age married jashodaben': 7,\n",
              " 'married jashodaben modi': 78,\n",
              " 'jashodaben modi abandoned': 71,\n",
              " 'modi abandoned soon': 81,\n",
              " 'abandoned soon publicly': 0,\n",
              " 'soon publicly acknowledging': 112,\n",
              " 'publicly acknowledging four': 99,\n",
              " 'acknowledging four decade': 3,\n",
              " 'four decade later': 46,\n",
              " 'decade later legally': 29,\n",
              " 'later legally required': 73,\n",
              " 'modi became full': 84,\n",
              " 'became full time': 12,\n",
              " 'full time worker': 47,\n",
              " 'time worker gujarat': 120,\n",
              " 'assigned bjp held': 10,\n",
              " 'bjp held several': 14,\n",
              " 'held several position': 56,\n",
              " 'several position within': 109,\n",
              " 'position within party': 95,\n",
              " 'within party hierarchy': 123,\n",
              " 'party hierarchy rising': 92,\n",
              " 'hierarchy rising rank': 57,\n",
              " 'rising rank general': 106,\n",
              " 'rank general secretary': 102,\n",
              " 'modi appointed chief': 83,\n",
              " 'appointed chief minister': 8,\n",
              " 'chief minister gujarat': 19,\n",
              " 'minister gujarat elected': 80,\n",
              " 'gujarat elected legislative': 52,\n",
              " 'elected legislative assembly': 36,\n",
              " 'legislative assembly soon': 75,\n",
              " 'administration considered complicit': 4,\n",
              " 'considered complicit gujarat': 22,\n",
              " 'complicit gujarat riot': 21,\n",
              " 'gujarat riot criticised': 53,\n",
              " 'riot criticised management': 105,\n",
              " 'criticised management crisis': 27,\n",
              " 'little people killed': 76,\n",
              " 'people killed according': 93,\n",
              " 'killed according official': 72,\n",
              " 'according official record': 2,\n",
              " 'official record three': 90,\n",
              " 'record three quarter': 103,\n",
              " 'three quarter muslim': 119,\n",
              " 'quarter muslim independent': 100,\n",
              " 'muslim independent source': 88,\n",
              " 'independent source estimated': 62,\n",
              " 'source estimated death': 113,\n",
              " 'estimated death mostly': 40,\n",
              " 'death mostly muslim': 28,\n",
              " 'special investigation team': 114,\n",
              " 'investigation team appointed': 69,\n",
              " 'team appointed supreme': 118,\n",
              " 'appointed supreme court': 9,\n",
              " 'supreme court india': 116,\n",
              " 'court india found': 24,\n",
              " 'india found evidence': 63,\n",
              " 'found evidence initiate': 45,\n",
              " 'evidence initiate prosecution': 41,\n",
              " 'initiate prosecution proceeding': 65,\n",
              " 'policy chief minister': 94,\n",
              " 'chief minister credited': 18,\n",
              " 'minister credited encouraging': 79,\n",
              " 'credited encouraging economic': 25,\n",
              " 'encouraging economic growth': 38,\n",
              " 'economic growth praised': 33,\n",
              " 'growth praised modi': 50,\n",
              " 'praised modi administration': 97,\n",
              " 'modi administration criticised': 82,\n",
              " 'administration criticised failing': 5,\n",
              " 'criticised failing significantly': 26,\n",
              " 'failing significantly improve': 42,\n",
              " 'significantly improve health': 110,\n",
              " 'improve health poverty': 60,\n",
              " 'health poverty education': 54,\n",
              " 'poverty education index': 96,\n",
              " 'education index state': 34,\n",
              " 'indian general election': 64,\n",
              " 'general election modi': 48,\n",
              " 'election modi led': 37,\n",
              " 'modi led bjp': 87,\n",
              " 'led bjp parliamentary': 74,\n",
              " 'bjp parliamentary majority': 15,\n",
              " 'parliamentary majority first': 91,\n",
              " 'majority first party': 77,\n",
              " 'first party since': 43,\n",
              " 'administration increased direct': 6,\n",
              " 'increased direct foreign': 61,\n",
              " 'direct foreign investment': 32,\n",
              " 'foreign investment reduced': 44,\n",
              " 'investment reduced spending': 70,\n",
              " 'reduced spending healthcare': 104,\n",
              " 'spending healthcare education': 115,\n",
              " 'healthcare education social': 55,\n",
              " 'education social welfare': 35,\n",
              " 'social welfare programme': 111,\n",
              " 'modi began high': 85,\n",
              " 'began high profile': 13,\n",
              " 'high profile sanitation': 59,\n",
              " 'profile sanitation campaign': 98,\n",
              " 'sanitation campaign controversially': 107,\n",
              " 'campaign controversially initiated': 17,\n",
              " 'controversially initiated demonetisation': 23,\n",
              " 'initiated demonetisation high': 66,\n",
              " 'demonetisation high denomination': 30,\n",
              " 'high denomination banknote': 58,\n",
              " 'denomination banknote introduced': 31,\n",
              " 'banknote introduced good': 11,\n",
              " 'introduced good service': 68,\n",
              " 'good service tax': 49,\n",
              " 'service tax weakened': 108,\n",
              " 'tax weakened abolished': 117,\n",
              " 'weakened abolished environmental': 122,\n",
              " 'abolished environmental labour': 1,\n",
              " 'environmental labour law': 39}"
            ]
          },
          "metadata": {},
          "execution_count": 34
        }
      ]
    },
    {
      "cell_type": "code",
      "source": [
        " corpus[0]"
      ],
      "metadata": {
        "colab": {
          "base_uri": "https://localhost:8080/",
          "height": 35
        },
        "id": "uCih-fOp9LPh",
        "outputId": "c7cad0ac-53cb-4700-87c0-18e1b5b08e51"
      },
      "execution_count": 35,
      "outputs": [
        {
          "output_type": "execute_result",
          "data": {
            "text/plain": [
              "'modi born raised vadnagar northeastern gujarat completed secondary education'"
            ],
            "application/vnd.google.colaboratory.intrinsic+json": {
              "type": "string"
            }
          },
          "metadata": {},
          "execution_count": 35
        }
      ]
    },
    {
      "cell_type": "code",
      "source": [
        "X[0].toarray()"
      ],
      "metadata": {
        "colab": {
          "base_uri": "https://localhost:8080/"
        },
        "id": "FZOQuwYF9wUS",
        "outputId": "15378439-cd29-4537-fafe-1643dee8086b"
      },
      "execution_count": 36,
      "outputs": [
        {
          "output_type": "execute_result",
          "data": {
            "text/plain": [
              "array([[0, 0, 0, 0, 0, 0, 0, 0, 0, 0, 0, 0, 0, 0, 0, 0, 1, 0, 0, 0, 1, 0,\n",
              "        0, 0, 0, 0, 0, 0, 0, 0, 0, 0, 0, 0, 0, 0, 0, 0, 0, 0, 0, 0, 0, 0,\n",
              "        0, 0, 0, 0, 0, 0, 0, 1, 0, 0, 0, 0, 0, 0, 0, 0, 0, 0, 0, 0, 0, 0,\n",
              "        0, 0, 0, 0, 0, 0, 0, 0, 0, 0, 0, 0, 0, 0, 0, 0, 0, 0, 0, 0, 1, 0,\n",
              "        0, 1, 0, 0, 0, 0, 0, 0, 0, 0, 0, 0, 0, 1, 0, 0, 0, 0, 0, 0, 0, 0,\n",
              "        0, 0, 0, 0, 0, 0, 0, 0, 0, 0, 0, 1, 0, 0]])"
            ]
          },
          "metadata": {},
          "execution_count": 36
        }
      ]
    },
    {
      "cell_type": "code",
      "source": [
        "### TFIDF\n",
        "from sklearn.feature_extraction.text import TfidfVectorizer\n",
        "cv=TfidfVectorizer()\n",
        "X=cv.fit_transform(corpus)"
      ],
      "metadata": {
        "id": "IDyGqVL89zg5"
      },
      "execution_count": 37,
      "outputs": []
    },
    {
      "cell_type": "code",
      "source": [
        "corpus[0]"
      ],
      "metadata": {
        "colab": {
          "base_uri": "https://localhost:8080/",
          "height": 35
        },
        "id": "ta9cZ_4d-KKJ",
        "outputId": "31e13745-8d6c-4d84-c32d-20c9e2892e7f"
      },
      "execution_count": 38,
      "outputs": [
        {
          "output_type": "execute_result",
          "data": {
            "text/plain": [
              "'modi born raised vadnagar northeastern gujarat completed secondary education'"
            ],
            "application/vnd.google.colaboratory.intrinsic+json": {
              "type": "string"
            }
          },
          "metadata": {},
          "execution_count": 38
        }
      ]
    },
    {
      "cell_type": "code",
      "source": [
        "X[0].toarray()"
      ],
      "metadata": {
        "colab": {
          "base_uri": "https://localhost:8080/"
        },
        "id": "LVNoNWa6-Ltz",
        "outputId": "fa5c175d-b7c4-4ff8-8cc7-da1bc795cc79"
      },
      "execution_count": 39,
      "outputs": [
        {
          "output_type": "execute_result",
          "data": {
            "text/plain": [
              "array([[0.        , 0.        , 0.        , 0.        , 0.        ,\n",
              "        0.        , 0.        , 0.        , 0.        , 0.        ,\n",
              "        0.        , 0.        , 0.        , 0.36911352, 0.        ,\n",
              "        0.        , 0.36911352, 0.        , 0.        , 0.        ,\n",
              "        0.        , 0.        , 0.        , 0.        , 0.        ,\n",
              "        0.        , 0.        , 0.        , 0.        , 0.        ,\n",
              "        0.2822643 , 0.        , 0.        , 0.        , 0.        ,\n",
              "        0.        , 0.        , 0.        , 0.        , 0.        ,\n",
              "        0.        , 0.        , 0.        , 0.        , 0.        ,\n",
              "        0.        , 0.        , 0.2543051 , 0.        , 0.        ,\n",
              "        0.        , 0.        , 0.        , 0.        , 0.        ,\n",
              "        0.        , 0.        , 0.        , 0.        , 0.        ,\n",
              "        0.        , 0.        , 0.        , 0.        , 0.        ,\n",
              "        0.        , 0.        , 0.        , 0.        , 0.        ,\n",
              "        0.        , 0.        , 0.        , 0.        , 0.        ,\n",
              "        0.        , 0.        , 0.19541508, 0.        , 0.        ,\n",
              "        0.36911352, 0.        , 0.        , 0.        , 0.        ,\n",
              "        0.        , 0.        , 0.        , 0.        , 0.        ,\n",
              "        0.        , 0.        , 0.        , 0.        , 0.        ,\n",
              "        0.36911352, 0.        , 0.        , 0.        , 0.        ,\n",
              "        0.        , 0.        , 0.        , 0.36911352, 0.        ,\n",
              "        0.        , 0.        , 0.        , 0.        , 0.        ,\n",
              "        0.        , 0.        , 0.        , 0.        , 0.        ,\n",
              "        0.        , 0.        , 0.        , 0.        , 0.        ,\n",
              "        0.36911352, 0.        , 0.        , 0.        , 0.        ]])"
            ]
          },
          "metadata": {},
          "execution_count": 39
        }
      ]
    },
    {
      "cell_type": "code",
      "source": [
        " X[0].toarray()"
      ],
      "metadata": {
        "colab": {
          "base_uri": "https://localhost:8080/"
        },
        "id": "iV_m6tBE-QAT",
        "outputId": "ddc78b6a-2ba8-4561-ad95-f3d20503f1cf"
      },
      "execution_count": 40,
      "outputs": [
        {
          "output_type": "execute_result",
          "data": {
            "text/plain": [
              "array([[0.        , 0.        , 0.        , 0.        , 0.        ,\n",
              "        0.        , 0.        , 0.        , 0.        , 0.        ,\n",
              "        0.        , 0.        , 0.        , 0.36911352, 0.        ,\n",
              "        0.        , 0.36911352, 0.        , 0.        , 0.        ,\n",
              "        0.        , 0.        , 0.        , 0.        , 0.        ,\n",
              "        0.        , 0.        , 0.        , 0.        , 0.        ,\n",
              "        0.2822643 , 0.        , 0.        , 0.        , 0.        ,\n",
              "        0.        , 0.        , 0.        , 0.        , 0.        ,\n",
              "        0.        , 0.        , 0.        , 0.        , 0.        ,\n",
              "        0.        , 0.        , 0.2543051 , 0.        , 0.        ,\n",
              "        0.        , 0.        , 0.        , 0.        , 0.        ,\n",
              "        0.        , 0.        , 0.        , 0.        , 0.        ,\n",
              "        0.        , 0.        , 0.        , 0.        , 0.        ,\n",
              "        0.        , 0.        , 0.        , 0.        , 0.        ,\n",
              "        0.        , 0.        , 0.        , 0.        , 0.        ,\n",
              "        0.        , 0.        , 0.19541508, 0.        , 0.        ,\n",
              "        0.36911352, 0.        , 0.        , 0.        , 0.        ,\n",
              "        0.        , 0.        , 0.        , 0.        , 0.        ,\n",
              "        0.        , 0.        , 0.        , 0.        , 0.        ,\n",
              "        0.36911352, 0.        , 0.        , 0.        , 0.        ,\n",
              "        0.        , 0.        , 0.        , 0.36911352, 0.        ,\n",
              "        0.        , 0.        , 0.        , 0.        , 0.        ,\n",
              "        0.        , 0.        , 0.        , 0.        , 0.        ,\n",
              "        0.        , 0.        , 0.        , 0.        , 0.        ,\n",
              "        0.36911352, 0.        , 0.        , 0.        , 0.        ]])"
            ]
          },
          "metadata": {},
          "execution_count": 40
        }
      ]
    },
    {
      "cell_type": "code",
      "source": [],
      "metadata": {
        "id": "sdKalaCzAJuE"
      },
      "execution_count": null,
      "outputs": []
    }
  ]
}